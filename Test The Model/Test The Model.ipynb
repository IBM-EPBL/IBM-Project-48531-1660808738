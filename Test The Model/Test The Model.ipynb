{
 "cells": [
  {
   "cell_type": "code",
   "execution_count": 52,
   "id": "4db6bfbe",
   "metadata": {},
   "outputs": [],
   "source": [
    "                      ################## Test The Model ######################"
   ]
  },
  {
   "cell_type": "code",
   "execution_count": 14,
   "id": "6ffe92c6",
   "metadata": {},
   "outputs": [],
   "source": [
    "from tensorflow.keras.models import Sequential\n",
    "from tensorflow.keras.layers import Dense, Conv2D, Flatten, Dropout, MaxPooling2D\n",
    "from tensorflow.keras.preprocessing.image import ImageDataGenerator\n",
    "import numpy as np\n",
    "import matplotlib.pyplot as plt\n",
    "import cv2"
   ]
  },
  {
   "cell_type": "code",
   "execution_count": 15,
   "id": "3761eaeb",
   "metadata": {},
   "outputs": [],
   "source": [
    "from tensorflow.keras.preprocessing.image import ImageDataGenerator\n",
    "train_datagen=ImageDataGenerator(rescale = 1./255, shear_range=0.2, zoom_range=0.2,horizontal_flip=True,vertical_flip=False)\n",
    "test_datagen = ImageDataGenerator(rescale=1./255)"
   ]
  },
  {
   "cell_type": "code",
   "execution_count": 16,
   "id": "fec4780a",
   "metadata": {},
   "outputs": [
    {
     "name": "stdout",
     "output_type": "stream",
     "text": [
      "Found 15750 images belonging to 9 classes.\n"
     ]
    }
   ],
   "source": [
    "x_train = train_datagen.flow_from_directory(r\"C:\\Program Files\\Dataset\\training_set\", target_size=(64,64),batch_size=100,\n",
    "                                            class_mode='categorical', color_mode =\"grayscale\")"
   ]
  },
  {
   "cell_type": "code",
   "execution_count": 20,
   "id": "e6e2b361",
   "metadata": {},
   "outputs": [
    {
     "name": "stdout",
     "output_type": "stream",
     "text": [
      "Found 2250 images belonging to 9 classes.\n"
     ]
    }
   ],
   "source": [
    "x_test = test_datagen.flow_from_directory(r\"C:\\Program Files\\Dataset\\test_set\", target_size=(64,64),batch_size=100,\n",
    "                                         class_mode='categorical', color_mode =\"grayscale\")"
   ]
  },
  {
   "cell_type": "code",
   "execution_count": 21,
   "id": "2e273197",
   "metadata": {},
   "outputs": [
    {
     "data": {
      "text/plain": [
       "158"
      ]
     },
     "execution_count": 21,
     "metadata": {},
     "output_type": "execute_result"
    }
   ],
   "source": [
    "len(x_train)"
   ]
  },
  {
   "cell_type": "code",
   "execution_count": 22,
   "id": "41d495c0",
   "metadata": {},
   "outputs": [
    {
     "data": {
      "text/plain": [
       "23"
      ]
     },
     "execution_count": 22,
     "metadata": {},
     "output_type": "execute_result"
    }
   ],
   "source": [
    "len(x_test)"
   ]
  },
  {
   "cell_type": "code",
   "execution_count": 23,
   "id": "afc0042a",
   "metadata": {},
   "outputs": [
    {
     "data": {
      "text/plain": [
       "{'A': 0, 'B': 1, 'C': 2, 'D': 3, 'E': 4, 'F': 5, 'G': 6, 'H': 7, 'I': 8}"
      ]
     },
     "execution_count": 23,
     "metadata": {},
     "output_type": "execute_result"
    }
   ],
   "source": [
    "x_train.class_indices"
   ]
  },
  {
   "cell_type": "code",
   "execution_count": null,
   "id": "a06b4570",
   "metadata": {},
   "outputs": [],
   "source": [
    "        ###################### Import The Packages And Load The Saved Model ######################"
   ]
  },
  {
   "cell_type": "code",
   "execution_count": 24,
   "id": "3337b0fe",
   "metadata": {},
   "outputs": [],
   "source": [
    "from tensorflow.keras.models import Sequential\n",
    "from tensorflow.keras.layers import Dense\n",
    "from tensorflow.keras.layers import Convolution2D\n",
    "from tensorflow.keras.layers import MaxPooling2D\n",
    "from tensorflow.keras.layers import Dropout\n",
    "from tensorflow.keras.layers import Flatten"
   ]
  },
  {
   "cell_type": "code",
   "execution_count": 25,
   "id": "a6b1c851",
   "metadata": {},
   "outputs": [],
   "source": [
    "#Creating the model\n",
    "model=Sequential()\n",
    "#Adding the layers\n",
    "model.add(Convolution2D(32,(3,3), input_shape=(64,64,1), activation = 'relu'))\n",
    "model.add(MaxPooling2D(pool_size=(2,2)))\n",
    "model.add(Flatten())\n",
    "\n",
    "#adding hidden layers\n",
    "model.add(Dense(400, activation='relu'))\n",
    "model.add(Dense(200, activation='relu'))\n",
    "model.add(Dense(100, activation='relu'))\n",
    "\n",
    "#Adding the output layer\n",
    "model.add(Dense(9, activation='softmax'))"
   ]
  },
  {
   "cell_type": "code",
   "execution_count": 26,
   "id": "cd2c1316",
   "metadata": {},
   "outputs": [],
   "source": [
    "model.compile(loss='categorical_crossentropy', optimizer='adam', metrics=['accuracy'])"
   ]
  },
  {
   "cell_type": "code",
   "execution_count": 27,
   "id": "43c94ce5",
   "metadata": {},
   "outputs": [
    {
     "name": "stdout",
     "output_type": "stream",
     "text": [
      "WARNING:tensorflow:From <ipython-input-27-5b5a37433cda>:1: Model.fit_generator (from tensorflow.python.keras.engine.training) is deprecated and will be removed in a future version.\n",
      "Instructions for updating:\n",
      "Please use Model.fit, which supports generators.\n",
      "Epoch 1/10\n",
      "30/30 [==============================] - ETA: 0s - loss: 1.1565 - accuracy: 0.6160WARNING:tensorflow:Your input ran out of data; interrupting training. Make sure that your dataset or generator can generate at least `steps_per_epoch * epochs` batches (in this case, 50 batches). You may need to use the repeat() function when building your dataset.\n",
      "30/30 [==============================] - 21s 697ms/step - loss: 1.1565 - accuracy: 0.6160 - val_loss: 0.5600 - val_accuracy: 0.8102\n",
      "Epoch 2/10\n",
      "30/30 [==============================] - 15s 504ms/step - loss: 0.3481 - accuracy: 0.8922\n",
      "Epoch 3/10\n",
      "30/30 [==============================] - 15s 509ms/step - loss: 0.1948 - accuracy: 0.9447\n",
      "Epoch 4/10\n",
      "30/30 [==============================] - 15s 516ms/step - loss: 0.1390 - accuracy: 0.9553\n",
      "Epoch 5/10\n",
      "30/30 [==============================] - 15s 511ms/step - loss: 0.0763 - accuracy: 0.9790\n",
      "Epoch 6/10\n",
      "30/30 [==============================] - 15s 505ms/step - loss: 0.0560 - accuracy: 0.9843\n",
      "Epoch 7/10\n",
      "30/30 [==============================] - 15s 501ms/step - loss: 0.0506 - accuracy: 0.9877\n",
      "Epoch 8/10\n",
      "30/30 [==============================] - 15s 497ms/step - loss: 0.0466 - accuracy: 0.9867\n",
      "Epoch 9/10\n",
      "30/30 [==============================] - 15s 502ms/step - loss: 0.0488 - accuracy: 0.9857\n",
      "Epoch 10/10\n",
      "30/30 [==============================] - 15s 490ms/step - loss: 0.0454 - accuracy: 0.9841\n"
     ]
    },
    {
     "data": {
      "text/plain": [
       "<tensorflow.python.keras.callbacks.History at 0x1f2fe4f1a30>"
      ]
     },
     "execution_count": 27,
     "metadata": {},
     "output_type": "execute_result"
    }
   ],
   "source": [
    "model.fit_generator(x_train, steps_per_epoch=30, epochs=10, validation_data=x_test,validation_steps=50)"
   ]
  },
  {
   "cell_type": "code",
   "execution_count": 28,
   "id": "1df8eda5",
   "metadata": {},
   "outputs": [],
   "source": [
    "model.save('HandSign.h5')"
   ]
  },
  {
   "cell_type": "code",
   "execution_count": null,
   "id": "f3e1ce97",
   "metadata": {},
   "outputs": [],
   "source": [
    "################################## Load The Test Image, Pre-Process It And Predict #############################"
   ]
  },
  {
   "cell_type": "code",
   "execution_count": 29,
   "id": "85161549",
   "metadata": {},
   "outputs": [],
   "source": [
    "from tensorflow.keras.models import load_model\n",
    "from tensorflow.keras.preprocessing import image\n",
    "import numpy as np\n",
    "import cv2"
   ]
  },
  {
   "cell_type": "code",
   "execution_count": 41,
   "id": "962b1434",
   "metadata": {},
   "outputs": [],
   "source": [
    "model = load_model(\"C:\\Program Files\\HandSign.h5\")"
   ]
  },
  {
   "cell_type": "code",
   "execution_count": 46,
   "id": "23c8edd5",
   "metadata": {},
   "outputs": [],
   "source": [
    "img = image.load_img('C:\\\\Program Files\\\\Dataset\\\\test_set\\\\A\\\\10.png',target_size = (100,100))\n"
   ]
  },
  {
   "cell_type": "code",
   "execution_count": 47,
   "id": "d4354b17",
   "metadata": {},
   "outputs": [
    {
     "data": {
      "image/png": "[encoded data removed]",
      "text/plain": [
       "<PIL.Image.Image image mode=RGB size=100x100 at 0x1F2856D9250>"
      ]
     },
     "execution_count": 47,
     "metadata": {},
     "output_type": "execute_result"
    }
   ],
   "source": [
    "img"
   ]
  },
  {
   "cell_type": "code",
   "execution_count": 48,
   "id": "a04d893b",
   "metadata": {},
   "outputs": [],
   "source": [
    "from skimage.transform import resize\n",
    "def detect(frame):\n",
    "    img=image.img_to_array(frame)\n",
    "    img = resize(img,(64,64,1))\n",
    "    img = np.expand_dims(img,axis=0)\n",
    "    pred=np.argmax(model.predict(img))\n",
    "    op=['A','B','C','D','E','F','G','H','I']\n",
    "    print(\"THE PREDICTED LETTER IS \",op[pred])"
   ]
  },
  {
   "cell_type": "code",
   "execution_count": 49,
   "id": "9b81da3b",
   "metadata": {},
   "outputs": [
    {
     "name": "stdout",
     "output_type": "stream",
     "text": [
      "THE PREDICTED LETTER IS  A\n"
     ]
    }
   ],
   "source": [
    "img=image.load_img(\"C:\\\\Program Files\\\\Dataset\\\\test_set\\\\A\\\\12.png\")\n",
    "detect(img)"
   ]
  },
  {
   "cell_type": "code",
   "execution_count": 50,
   "id": "f7eb6898",
   "metadata": {},
   "outputs": [
    {
     "name": "stdout",
     "output_type": "stream",
     "text": [
      "THE PREDICTED LETTER IS  E\n"
     ]
    }
   ],
   "source": [
    "img = image.load_img('C:\\\\Program Files\\\\Dataset\\\\test_set\\\\E\\\\39.png')\n",
    "pred=detect(img)"
   ]
  },
  {
   "cell_type": "code",
   "execution_count": 51,
   "id": "059d11d2",
   "metadata": {},
   "outputs": [
    {
     "name": "stdout",
     "output_type": "stream",
     "text": [
      "THE PREDICTED LETTER IS  F\n"
     ]
    }
   ],
   "source": [
    "img = image.load_img('C:\\\\Program Files\\\\Dataset\\\\test_set\\\\F\\\\15.png')\n",
    "pred=detect(img)"
   ]
  },
  {
   "cell_type": "code",
   "execution_count": null,
   "id": "324706d5",
   "metadata": {},
   "outputs": [],
   "source": [
    " ################################### Successfully Tested The Model #################################"
   ]
  }
 ],
 "metadata": {
  "kernelspec": {
   "display_name": "Python 3",
   "language": "python",
   "name": "python3"
  },
  "language_info": {
   "codemirror_mode": {
    "name": "ipython",
    "version": 3
   },
   "file_extension": ".py",
   "mimetype": "text/x-python",
   "name": "python",
   "nbconvert_exporter": "python",
   "pygments_lexer": "ipython3",
   "version": "3.8.8"
  }
 },
 "nbformat": 4,
 "nbformat_minor": 5
}
